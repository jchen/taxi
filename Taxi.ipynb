{
 "cells": [
  {
   "cell_type": "markdown",
   "id": "574e5f62",
   "metadata": {},
   "source": [
    "# Taxi (C@B Scraper)\n",
    "\n",
    "## Intro\n",
    "This is tool to retrieve a list of courses and course descriptions from Courses@Brown. **I am not responsible for what you do with this script, or the data from it (specifically, I'm not liable for potential violations of C@B or Brown's TOS with this tool).** C@B's API endpoints are publicly accessible, and are noted below. If at any point C@B starts requiring authentication, or some other form of database restriction, these scripts will fail to function. \n",
    "\n",
    "The tool makes simple `POST` requests to the C@B API. In some cases, it makes requests with parameters that a website originating request would disallow. For example, requesting a list of _all_ the listed courses. Please be wary of this while using this tool. \n",
    "\n",
    "## Usage\n",
    "You should _always_ look into the repository to see if there is already a latest version of C@B data. If so, you don't need to touch any of this code and you shouldn't make unnecessary requests! While I will try to keep these files up to date, sometimes they might become outdated. Feel free to fork this repository and create a pull request to update the data. \n",
    "\n",
    "Taxi will _always_ see if there is already output that has been generated in the past. If it exists, it loads said output instead of scraping C@B again. To manually retrieve course data again, delete the `out` directory and run the code. This will generate a new `out` directory with accompanying JSON files for reuse. \n",
    "\n",
    "## JSON Schema\n",
    "I've tried to detail some of the return schema below. "
   ]
  },
  {
   "cell_type": "markdown",
   "id": "e746981b",
   "metadata": {},
   "source": [
    "### Imports\n",
    "We first import necessary packages. This includes `requests` for requests to the C@B API and `json` to parse the json payload and response. We also need to access the filesystem to read and write to files. You might need to install `tqdm` to use progress bars, but it can default to not using it. "
   ]
  },
  {
   "cell_type": "code",
   "execution_count": null,
   "id": "c010ebec",
   "metadata": {
    "scrolled": true
   },
   "outputs": [],
   "source": [
    "import requests\n",
    "import json\n",
    "from os import path\n",
    "# Imports zipfile to (de)compress output\n",
    "import zipfile\n",
    "try:\n",
    "    import zlib\n",
    "    compression = zipfile.ZIP_DEFLATED\n",
    "except:\n",
    "    compression = zipfile.ZIP_STORED\n",
    "# Progress bars. If tqdm is not installed, comment out the following line. The wrapper will be defaulted. \n",
    "from tqdm.auto import tqdm\n",
    "if 'tqdm' not in globals():\n",
    "    tqdm = lambda x: x"
   ]
  },
  {
   "cell_type": "markdown",
   "id": "0f7cd9db",
   "metadata": {},
   "source": [
    "### API Endpoints\n",
    "These define global variables for C@B API endpoints. "
   ]
  },
  {
   "cell_type": "code",
   "execution_count": null,
   "id": "37adaf82",
   "metadata": {},
   "outputs": [],
   "source": [
    "# url to request list of courses. Must pass payload as specified (below). \n",
    "LIST_REQUEST_URL = \"https://cab.brown.edu/api/?page=fose&route=search\"\n",
    "# url to request specific course information, must pass payload as specified (below). \n",
    "COURSE_REQUEST_URL = \"https://cab.brown.edu/api/?page=fose&route=details\""
   ]
  },
  {
   "cell_type": "markdown",
   "id": "2c77c4fe",
   "metadata": {},
   "source": [
    "### Directory Endpoints\n",
    "It's also nice to define where we want our output files to go. These are relative paths. "
   ]
  },
  {
   "cell_type": "code",
   "execution_count": null,
   "id": "d62cf423",
   "metadata": {},
   "outputs": [],
   "source": [
    "OUTPUT_DIR = \"out/\" # Make sure this directory exists!\n",
    "COURSE_LIST_PATH = OUTPUT_DIR + \"course_list.json\"\n",
    "COURSE_DESC_PATH = OUTPUT_DIR + \"course_desc.json\""
   ]
  },
  {
   "cell_type": "markdown",
   "id": "56b53ce7",
   "metadata": {},
   "source": [
    "### Course Listing\n",
    "The following functions request a full listing of courses that are currently catalogued by C@B. It returns them as a dictionary object and also saves a `.json` copy if possible. "
   ]
  },
  {
   "cell_type": "code",
   "execution_count": null,
   "id": "456c77aa",
   "metadata": {},
   "outputs": [],
   "source": [
    "def get_course_list():\n",
    "    # Payload with placeholder srcdb and empty criteria. Returns entire database of courses offered.\n",
    "    payload = {\"other\": {\"srcdb\": \"999999\"}, \"criteria\": []}\n",
    "    # Placeholder to test on a small set of data (doesn't overlad C@B.)\n",
    "    # payload = {\"other\": {\"srcdb\": \"999999\"}, \"criteria\": [{\"field\":\"keyword\",\"value\":\"csci 0300\"},{\"field\":\"is_ind_study\",\"value\":\"N\"}]}\n",
    "    # Makes said request\n",
    "    r = requests.post(LIST_REQUEST_URL, data = json.dumps(payload))\n",
    "    json_output = json.loads(r.text)\n",
    "    print(\"Successfully retrieved records for \" + str(len(json_output['results'])) + \" courses.\")\n",
    "    return json_output\n",
    "\n",
    "def save_list(response):\n",
    "    # Saves response as a .json file for easy access\n",
    "    with open(COURSE_LIST_PATH, 'w+') as outfile:\n",
    "        json.dump(response, outfile)\n",
    "    with zipfile.ZipFile(COURSE_LIST_PATH + \".zip\", \"w\") as zip_ref:\n",
    "        print(\"zipping\")\n",
    "        zip_ref.write(COURSE_LIST_PATH, compress_type=compression)\n",
    "\n",
    "def course_listings():\n",
    "    if path.isfile(COURSE_LIST_PATH):\n",
    "        with open(COURSE_LIST_PATH) as course_list_file:\n",
    "            data = json.load(course_list_file)\n",
    "            print(\"Existing data found for course listings, \" + str(len(data['results'])) + \" courses loaded.\")\n",
    "            return data\n",
    "    elif path.isfile(COURSE_LIST_PATH + \".zip\"):\n",
    "        print(\"Zipfile found, printing zipfile for data.\")\n",
    "        with zipfile.ZipFile(COURSE_LIST_PATH + \".zip\", \"r\") as zip_ref:\n",
    "            zip_ref.extractall('out')\n",
    "        # Runs again since file now exists. \n",
    "        return course_listings()\n",
    "    else:\n",
    "        print(\"Could not find existing data, querying C@B.\")\n",
    "        data = get_course_list()\n",
    "        save_list(data)\n",
    "        return data"
   ]
  },
  {
   "cell_type": "markdown",
   "id": "eb638848",
   "metadata": {},
   "source": [
    "### Course Descriptions\n",
    "The following functions request course descriptions for each course. "
   ]
  },
  {
   "cell_type": "code",
   "execution_count": null,
   "id": "3da8d2a7",
   "metadata": {},
   "outputs": [],
   "source": [
    "def get_course(crn, srcdb, verbose=False):\n",
    "    \"\"\"\n",
    "    Gets the response for a course with specific CRN and 'srcdb' (semester id). \n",
    "    Expects crn or srcdb in either string or number format. \n",
    "    \"\"\"\n",
    "    if verbose:\n",
    "        print(\"Getting course description for CRN \" + str(crn) + \" and srcdb \" + str(srcdb) + \".\")\n",
    "    payload = {\"group\": \"\", \"key\": \"crn:\" + str(crn), \"srcdb\": str(srcdb)}\n",
    "    r = requests.post(COURSE_REQUEST_URL, data=json.dumps(payload))\n",
    "    return json.loads(r.text)\n",
    "\n",
    "def get_course_desc(course_list=course_listings()):\n",
    "    descriptions = []\n",
    "    for course in tqdm(course_list['results']):\n",
    "        descriptions.append(get_course(course['crn'], course['srcdb']))\n",
    "    return descriptions\n",
    "\n",
    "def save_desc(response):\n",
    "    # Saves response as a .json file for easy access\n",
    "    with open(COURSE_DESC_PATH, 'w+') as outfile:\n",
    "        json.dump(response, outfile)\n",
    "    with zipfile.ZipFile(COURSE_DESC_PATH + \".zip\", \"w\") as zip_ref:\n",
    "        print(\"zipping\")\n",
    "        zip_ref.write(COURSE_DESC_PATH, compress_type=compression)\n",
    "\n",
    "def course_desc():\n",
    "    if path.isfile(COURSE_DESC_PATH):\n",
    "        with open(COURSE_DESC_PATH) as course_desc_file:\n",
    "            data = json.load(course_desc_file)\n",
    "            print(\"Existing data found for course metadata, \" + str(len(data)) + \" courses loaded.\")\n",
    "            return data\n",
    "    elif path.isfile(COURSE_DESC_PATH + \".zip\"):\n",
    "        print(\"Zipfile found, printing zipfile for course metadata.\")\n",
    "        with zipfile.ZipFile(COURSE_DESC_PATH + \".zip\", \"r\") as zip_ref:\n",
    "            zip_ref.extractall('out')\n",
    "        # Runs again since file now exists. \n",
    "#         return course_listings()\n",
    "    else:\n",
    "        print(\"Could not find existing data, querying C@B for course metadata.\")\n",
    "        data = get_course_desc()\n",
    "        save_desc(data)\n",
    "        return data"
   ]
  },
  {
   "cell_type": "code",
   "execution_count": null,
   "id": "1a62bc15",
   "metadata": {},
   "outputs": [],
   "source": [
    "cdesc = course_desc()"
   ]
  },
  {
   "cell_type": "code",
   "execution_count": null,
   "id": "61f4a183",
   "metadata": {},
   "outputs": [],
   "source": [
    "import pandas as pd\n",
    "\n",
    "df = pd.DataFrame(cdesc)"
   ]
  },
  {
   "cell_type": "code",
   "execution_count": null,
   "id": "c521d636",
   "metadata": {},
   "outputs": [],
   "source": [
    "df.head()"
   ]
  },
  {
   "cell_type": "code",
   "execution_count": null,
   "id": "aff7d16d",
   "metadata": {},
   "outputs": [],
   "source": [
    "df['title']"
   ]
  },
  {
   "cell_type": "code",
   "execution_count": null,
   "id": "050d565d",
   "metadata": {},
   "outputs": [],
   "source": []
  }
 ],
 "metadata": {
  "kernelspec": {
   "display_name": "Python 3",
   "language": "python",
   "name": "python3"
  },
  "language_info": {
   "codemirror_mode": {
    "name": "ipython",
    "version": 3
   },
   "file_extension": ".py",
   "mimetype": "text/x-python",
   "name": "python",
   "nbconvert_exporter": "python",
   "pygments_lexer": "ipython3",
   "version": "3.7.10"
  }
 },
 "nbformat": 4,
 "nbformat_minor": 5
}
